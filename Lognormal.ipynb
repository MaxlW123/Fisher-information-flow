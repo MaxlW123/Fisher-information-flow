{
 "cells": [
  {
   "cell_type": "code",
   "execution_count": 1,
   "metadata": {},
   "outputs": [
    {
     "name": "stderr",
     "output_type": "stream",
     "text": [
      "/home/maximilian/anaconda3/envs/ML/lib/python3.10/site-packages/torchvision/io/image.py:13: UserWarning: Failed to load image Python extension: 'libc10_cuda.so: cannot open shared object file: No such file or directory'If you don't plan on using image functionality from `torchvision.io`, you can ignore this warning. Otherwise, there might be something wrong with your environment. Did you have `libjpeg` or `libpng` installed before building `torchvision` from source?\n",
      "  warn(\n"
     ]
    }
   ],
   "source": [
    "import FI_estimation\n",
    "import torch\n",
    "from torch import nn\n",
    "from torch.nn import functional as F\n",
    "import torch.utils.data as Data\n",
    "from torch.utils.data import Dataset, DataLoader, TensorDataset\n",
    "from torch import optim\n",
    "import numpy as np\n",
    "from matplotlib import pyplot as plt\n",
    "import os\n",
    "from scipy import ndimage\n",
    "\n",
    "torch.device(\"cuda\" if torch.cuda.is_available() else \"cpu\")\n",
    "device = torch.device(\"cuda\" if torch.cuda.is_available() else \"cpu\")\n",
    "from torchvision.models.feature_extraction import get_graph_node_names\n",
    "from torchvision.models.feature_extraction import create_feature_extractor"
   ]
  },
  {
   "cell_type": "code",
   "execution_count": 2,
   "metadata": {},
   "outputs": [
    {
     "name": "stderr",
     "output_type": "stream",
     "text": [
      "/tmp/ipykernel_14554/337537569.py:35: UserWarning: The use of `x.T` on tensors of dimension other than 2 to reverse their shape is deprecated and it will throw an error in a future release. Consider `x.mT` to transpose batches of matricesor `x.permute(*torch.arange(x.ndim - 1, -1, -1))` to reverse the dimensions of a tensor. (Triggered internally at  /opt/conda/conda-bld/pytorch_1646755832681/work/aten/src/ATen/native/TensorShape.cpp:2318.)\n",
      "  train_set = TensorDataset(torch.tensor(X_train), torch.tensor(Y_train).T)\n"
     ]
    }
   ],
   "source": [
    "# lognormal; all moments exist but the MGF(t) does not exist for positive t\n",
    "type = np.float64\n",
    "def reshape(speckles):\n",
    "    reshaped = np.zeros(shape = (speckles.shape[0]*speckles.shape[1], speckles.shape[2]))\n",
    "    for pos in range(speckles.shape[0]):\n",
    "        for i in range(speckles.shape[1]):\n",
    "            reshaped[i+pos*speckles.shape[1]] = speckles[pos, i, :]\n",
    "    return reshaped\n",
    "\n",
    "data = np.load('Data'+os.sep+'ES_log_normal_train_X.npy') \n",
    "positions = np.load('Data'+os.sep+'ES_log_normal_train_Y.npy')\n",
    "\n",
    "x_tr = reshape(data)\n",
    "y_tr = reshape(positions)[:,0]\n",
    "x_tst = np.load(\"Data\"+os.sep+\"log_normal_test_X.npy\")\n",
    "delta = 0.1\n",
    "\n",
    "def shuffle_split_data(X, y, ratio=0.5):\n",
    "    arr_rand = np.random.rand(X.shape[0])\n",
    "    split = arr_rand < np.percentile(arr_rand, ratio*100)\n",
    "\n",
    "    X_train = X[split]\n",
    "    y_train = y[split]\n",
    "    X_test =  X[~split]\n",
    "    y_test = y[~split]\n",
    "    return X_train, X_test, y_train, y_test\n",
    "X_train, X_val, Y_train, Y_val = shuffle_split_data(x_tr, y_tr, ratio=0.8)\n",
    "#\n",
    "X_train = X_train.astype(type)\n",
    "Y_train = Y_train.astype(type)\n",
    "X_val = X_val.astype(type)\n",
    "Y_val = Y_val.astype(type)\n",
    "#\n",
    "torch.set_default_tensor_type(torch.DoubleTensor)\n",
    "train_set = TensorDataset(torch.tensor(X_train), torch.tensor(Y_train).T)\n",
    "val_set = TensorDataset(torch.tensor(X_val), torch.tensor(Y_val).T)\n",
    "\n",
    "bs = 128\n",
    "train_loader = Data.DataLoader(train_set, batch_size=bs, shuffle=True)\n",
    "validation_loader = Data.DataLoader(val_set, batch_size=bs, shuffle=True)"
   ]
  },
  {
   "cell_type": "code",
   "execution_count": 3,
   "metadata": {},
   "outputs": [],
   "source": [
    "x_tst = x_tst.astype(np.float64)"
   ]
  },
  {
   "cell_type": "code",
   "execution_count": 4,
   "metadata": {},
   "outputs": [],
   "source": [
    "class Model(nn.Module):\n",
    "    def __init__(self, n):\n",
    "        super(Model, self).__init__()\n",
    "        self.linear1 = nn.Linear(n[0], n[1])\n",
    "        self.linear2 = nn.Linear(n[1], n[2])\n",
    "        self.linear3 = nn.Linear(n[2], n[3])\n",
    "        self.linear4 = nn.Linear(n[3], n[4])\n",
    "        self.linear5 = nn.Linear(n[4], n[5])\n",
    "    def forward(self, x):\n",
    "        x = x.view(x.size(0), -1)\n",
    "        x = self.linear1(x)\n",
    "        x = F.relu(x)\n",
    "        x = self.linear2(x)    \n",
    "        x = F.relu(x)\n",
    "        x = self.linear3(x)\n",
    "        x = F.relu(x)\n",
    "        x = self.linear4(x)       \n",
    "        x = F.relu(x)\n",
    "        x = self.linear5(x)  \n",
    "        return x\n",
    "n = [10,150,100,50,25,1]"
   ]
  },
  {
   "cell_type": "code",
   "execution_count": 5,
   "metadata": {
    "scrolled": true
   },
   "outputs": [
    {
     "name": "stdout",
     "output_type": "stream",
     "text": [
      "epoch=  0 , val=  0.24120495663961222 , train =  1.1449761391749576\n",
      "epoch=  1 , val=  0.16666692548943537 , train =  0.1997811480839942\n",
      "epoch=  2 , val=  0.14869151219137747 , train =  0.16570663569291091\n",
      "epoch=  3 , val=  0.1426857049323928 , train =  0.15027553029978544\n",
      "epoch=  4 , val=  0.13187432845583452 , train =  0.14113781304980386\n",
      "epoch=  5 , val=  0.12566895862051336 , train =  0.13483959065831827\n",
      "epoch=  6 , val=  0.1221618915852298 , train =  0.12925901297103304\n",
      "epoch=  7 , val=  0.11876819782446868 , train =  0.12564931873278987\n",
      "epoch=  8 , val=  0.11974259105700957 , train =  0.12271040670896095\n",
      "epoch=  9 , val=  0.1175954731812061 , train =  0.12101518463435161\n",
      "epoch=  10 , val=  0.11085902056216805 , train =  0.11895673674412925\n",
      "epoch=  11 , val=  0.11660588890626834 , train =  0.11688904456397928\n",
      "epoch=  12 , val=  0.12313872866673121 , train =  0.11604211461401635\n",
      "epoch=  13 , val=  0.10861886009501952 , train =  0.11518415867451658\n",
      "epoch=  14 , val=  0.11173247745273775 , train =  0.11399828782023365\n",
      "epoch=  15 , val=  0.1077935247402538 , train =  0.113172850967594\n",
      "epoch=  16 , val=  0.11046632256698223 , train =  0.11219977101655498\n",
      "epoch=  17 , val=  0.1081896077391575 , train =  0.11201359887537873\n",
      "epoch=  18 , val=  0.1072822090955103 , train =  0.11165955242555883\n",
      "epoch=  19 , val=  0.10676500669086746 , train =  0.11090367107545024\n"
     ]
    }
   ],
   "source": [
    "Nruns = 10\n",
    "starting_epoch = 0\n",
    "criterion =  nn.MSELoss()\n",
    "n_epochs = 20\n",
    "lr = 1e-4\n",
    "training_loss = 0.\n",
    "validation_loss = 0.\n",
    "net = Model(n).to(device)\n",
    "all_losses = []\n",
    "all_losses_val = []\n",
    "all_losses.append(training_loss/len(train_loader))\n",
    "all_losses_val.append(validation_loss/len(validation_loader))\n",
    "torch.save(net,  'Models' +os.sep+ 'epoch' + str(0)+'Lognormal.pth')\n",
    "for epoch in range(starting_epoch, starting_epoch + n_epochs):\n",
    "    optimizer = optim.Adam(net.parameters(), lr=lr, weight_decay=0.00)\n",
    "    net.train()\n",
    "    training_loss = 0.\n",
    "    validation_loss = 0.\n",
    "    batch_count = 0\n",
    "    for inputs, target in train_loader:\n",
    "        inputs = inputs.to(device)\n",
    "        target = target.to(device)\n",
    "        batch_count += 1\n",
    "        y_pred = net(inputs)\n",
    "        loss = criterion(y_pred,  torch.unsqueeze(target,dim=1)  )\n",
    "        optimizer.zero_grad()\n",
    "        loss.backward()\n",
    "        optimizer.step()\n",
    "        training_loss += loss.item()\n",
    "    net.eval()\n",
    "    with torch.no_grad():\n",
    "        for inputs, target in validation_loader:\n",
    "            inputs = inputs.to(device)\n",
    "            target = target.to(device)\n",
    "            y_pred = net(inputs)\n",
    "            loss_val = criterion(y_pred,  torch.unsqueeze(target,dim=1) )\n",
    "            validation_loss += loss_val.item()\n",
    "    print(\"epoch= \", epoch, \", val= \", validation_loss/len(validation_loader),\", train = \", training_loss/len(train_loader))\n",
    "    torch.save(net,   'Models' +os.sep+ 'epoch' + str(epoch+1)+'Lognormal.pth')\n",
    "    all_losses_val.append(validation_loss/len(validation_loader))\n",
    "    all_losses.append(training_loss/len(train_loader))"
   ]
  },
  {
   "cell_type": "code",
   "execution_count": 4,
   "metadata": {},
   "outputs": [],
   "source": [
    "# x_tst = x_tst.astype(np.float64)\n",
    "# x_minus = x_tst[0]\n",
    "# x_middle = x_tst[1]\n",
    "# x_plus = x_tst[2]"
   ]
  },
  {
   "cell_type": "code",
   "execution_count": 5,
   "metadata": {},
   "outputs": [
    {
     "name": "stdout",
     "output_type": "stream",
     "text": [
      "X.shape torch.Size([450000, 10])\n",
      "epoch:  0\n",
      "components ignored:  140\n",
      "calculating FI\n",
      "components ignored:  11\n",
      "up:  0\n"
     ]
    },
    {
     "ename": "KeyboardInterrupt",
     "evalue": "",
     "output_type": "error",
     "traceback": [
      "\u001b[0;31m---------------------------------------------------------------------------\u001b[0m",
      "\u001b[0;31mKeyboardInterrupt\u001b[0m                         Traceback (most recent call last)",
      "Cell \u001b[0;32mIn[5], line 59\u001b[0m\n\u001b[1;32m     56\u001b[0m linear4 \u001b[38;5;241m=\u001b[39m (FI_estimation\u001b[38;5;241m.\u001b[39mReLU(linear4))\n\u001b[1;32m     57\u001b[0m layer_out \u001b[38;5;241m=\u001b[39m (layer_out)\n\u001b[0;32m---> 59\u001b[0m fi_1 \u001b[38;5;241m=\u001b[39m \u001b[43mFI_estimation\u001b[49m\u001b[38;5;241;43m.\u001b[39;49m\u001b[43mget_FI\u001b[49m\u001b[43m(\u001b[49m\u001b[43mlinear1\u001b[49m\u001b[43m,\u001b[49m\u001b[43m \u001b[49m\u001b[43mdelta\u001b[49m\u001b[43m,\u001b[49m\u001b[43m \u001b[49m\u001b[43mupperLimit\u001b[49m\u001b[43m,\u001b[49m\u001b[43m \u001b[49m\u001b[43mstep\u001b[49m\u001b[43m,\u001b[49m\u001b[43m \u001b[49m\u001b[43mkappa\u001b[49m\u001b[43m,\u001b[49m\u001b[43m \u001b[49m\u001b[43mconstant_threshold\u001b[49m\u001b[38;5;241;43m=\u001b[39;49m\u001b[43mgamma\u001b[49m\u001b[43m,\u001b[49m\u001b[43m \u001b[49m\n\u001b[1;32m     60\u001b[0m \u001b[43m                           \u001b[49m\u001b[43mnoise_factor\u001b[49m\u001b[38;5;241;43m=\u001b[39;49m\u001b[43mnoise\u001b[49m\u001b[43m,\u001b[49m\u001b[43m \u001b[49m\u001b[43mbiasedLFI\u001b[49m\u001b[38;5;241;43m=\u001b[39;49m\u001b[38;5;28;43;01mTrue\u001b[39;49;00m\u001b[43m)\u001b[49m\n\u001b[1;32m     61\u001b[0m fi_2 \u001b[38;5;241m=\u001b[39m FI_estimation\u001b[38;5;241m.\u001b[39mget_FI(linear2, delta, upperLimit, step, kappa, constant_threshold\u001b[38;5;241m=\u001b[39mgamma, noise_factor\u001b[38;5;241m=\u001b[39mnoise, biasedLFI\u001b[38;5;241m=\u001b[39m\u001b[38;5;28;01mTrue\u001b[39;00m)\n\u001b[1;32m     62\u001b[0m fi_3 \u001b[38;5;241m=\u001b[39m FI_estimation\u001b[38;5;241m.\u001b[39mget_FI(linear3, delta, upperLimit, step, kappa, constant_threshold\u001b[38;5;241m=\u001b[39mgamma, noise_factor\u001b[38;5;241m=\u001b[39mnoise, biasedLFI\u001b[38;5;241m=\u001b[39m\u001b[38;5;28;01mTrue\u001b[39;00m)\n",
      "File \u001b[0;32m~/FI_Flow/clean_code/FI_estimation.py:74\u001b[0m, in \u001b[0;36mget_FI\u001b[0;34m(data, delta, lim, step_size, fluctuation_threshold, constant_threshold, noise_factor, biasedLFI)\u001b[0m\n\u001b[1;32m     72\u001b[0m \u001b[38;5;28mprint\u001b[39m(\u001b[38;5;124m\"\u001b[39m\u001b[38;5;124mup: \u001b[39m\u001b[38;5;124m\"\u001b[39m, up)\n\u001b[1;32m     73\u001b[0m r_up \u001b[38;5;241m=\u001b[39m np\u001b[38;5;241m.\u001b[39mrandom\u001b[38;5;241m.\u001b[39mnormal(\u001b[38;5;241m0.\u001b[39m,\u001b[38;5;241m1.\u001b[39m, size\u001b[38;5;241m=\u001b[39m(dim\u001b[38;5;241m+\u001b[39mup, dim)) \u001b[38;5;66;03m# random projection\u001b[39;00m\n\u001b[0;32m---> 74\u001b[0m transformed_data \u001b[38;5;241m=\u001b[39m activation(\u001b[43mnp\u001b[49m\u001b[38;5;241;43m.\u001b[39;49m\u001b[43meinsum\u001b[49m\u001b[43m(\u001b[49m\u001b[38;5;124;43m'\u001b[39;49m\u001b[38;5;124;43mij, abj -> abi\u001b[39;49m\u001b[38;5;124;43m'\u001b[39;49m\u001b[43m,\u001b[49m\u001b[43m \u001b[49m\u001b[43mr_up\u001b[49m\u001b[43m,\u001b[49m\u001b[43m \u001b[49m\u001b[43mdata\u001b[49m\u001b[43m)\u001b[49m) \u001b[38;5;66;03m# non-linear activation\u001b[39;00m\n\u001b[1;32m     75\u001b[0m a \u001b[38;5;241m=\u001b[39m transformed_data\u001b[38;5;241m.\u001b[39mshape[\u001b[38;5;241m0\u001b[39m]\n\u001b[1;32m     76\u001b[0m b \u001b[38;5;241m=\u001b[39m transformed_data\u001b[38;5;241m.\u001b[39mshape[\u001b[38;5;241m1\u001b[39m]\n",
      "File \u001b[0;32m<__array_function__ internals>:200\u001b[0m, in \u001b[0;36meinsum\u001b[0;34m(*args, **kwargs)\u001b[0m\n",
      "File \u001b[0;32m~/anaconda3/envs/ML/lib/python3.10/site-packages/numpy/core/einsumfunc.py:1371\u001b[0m, in \u001b[0;36meinsum\u001b[0;34m(out, optimize, *operands, **kwargs)\u001b[0m\n\u001b[1;32m   1369\u001b[0m     \u001b[38;5;28;01mif\u001b[39;00m specified_out:\n\u001b[1;32m   1370\u001b[0m         kwargs[\u001b[38;5;124m'\u001b[39m\u001b[38;5;124mout\u001b[39m\u001b[38;5;124m'\u001b[39m] \u001b[38;5;241m=\u001b[39m out\n\u001b[0;32m-> 1371\u001b[0m     \u001b[38;5;28;01mreturn\u001b[39;00m \u001b[43mc_einsum\u001b[49m\u001b[43m(\u001b[49m\u001b[38;5;241;43m*\u001b[39;49m\u001b[43moperands\u001b[49m\u001b[43m,\u001b[49m\u001b[43m \u001b[49m\u001b[38;5;241;43m*\u001b[39;49m\u001b[38;5;241;43m*\u001b[39;49m\u001b[43mkwargs\u001b[49m\u001b[43m)\u001b[49m\n\u001b[1;32m   1373\u001b[0m \u001b[38;5;66;03m# Check the kwargs to avoid a more cryptic error later, without having to\u001b[39;00m\n\u001b[1;32m   1374\u001b[0m \u001b[38;5;66;03m# repeat default values here\u001b[39;00m\n\u001b[1;32m   1375\u001b[0m valid_einsum_kwargs \u001b[38;5;241m=\u001b[39m [\u001b[38;5;124m'\u001b[39m\u001b[38;5;124mdtype\u001b[39m\u001b[38;5;124m'\u001b[39m, \u001b[38;5;124m'\u001b[39m\u001b[38;5;124morder\u001b[39m\u001b[38;5;124m'\u001b[39m, \u001b[38;5;124m'\u001b[39m\u001b[38;5;124mcasting\u001b[39m\u001b[38;5;124m'\u001b[39m]\n",
      "\u001b[0;31mKeyboardInterrupt\u001b[0m: "
     ]
    }
   ],
   "source": [
    "### calculating the FI Flow for different runs:\n",
    "### parameters \n",
    "fi_in = 10\n",
    "kappa = 0.1 # ratio of slopes\n",
    "gamma = 0.05 # stop when the LFI doesn't improve in the first iterations \n",
    "noise = 0.01 # noise added\n",
    "step = 50 # 10 increase of dimensionality\n",
    "upperLimit = 1000 # maximum increase \n",
    "n_epochs = 20\n",
    "X = x_tst\n",
    "X = X.reshape(X.shape[0]*X.shape[1], X.shape[2]) \n",
    "X = torch.tensor(X)\n",
    "print(\"X.shape\", X.shape)\n",
    "fi_array = []\n",
    "for epoch in range(n_epochs):\n",
    "    print(\"epoch: \", epoch)\n",
    "    net = Model(n)\n",
    "    net = torch.load('Models'+os.sep + 'epoch'+ str(epoch)+'Lognormal.pth', map_location=torch.device('cpu'))\n",
    "    net.eval()\n",
    "    ###\n",
    "    return_nodes = {\n",
    "        \"linear1\": \"linear1\",\n",
    "        \"linear2\": \"linear2\",\n",
    "        \"linear3\": \"linear3\",\n",
    "        \"linear4\": \"linear4\"}\n",
    "    model2 = create_feature_extractor(net, return_nodes=return_nodes)\n",
    "    intermediate_outputs = model2(X)\n",
    "\n",
    "    linear1 = intermediate_outputs['linear1']\n",
    "    linear2 = intermediate_outputs['linear2']\n",
    "    linear3 = intermediate_outputs['linear3']\n",
    "    linear4 = intermediate_outputs['linear4']\n",
    "    layer_out = net(X)\n",
    "    ##############\n",
    "    linear1 = linear1.reshape(3 , linear1.shape[0]//3, linear1.shape[1])\n",
    "    linear2 = linear2.reshape(3 , linear2.shape[0]//3, linear2.shape[1])\n",
    "    linear3 = linear3.reshape(3 , linear3.shape[0]//3, linear3.shape[1])\n",
    "    linear4 = linear4.reshape(3 , linear4.shape[0]//3, linear4.shape[1])\n",
    "    layer_out = layer_out.reshape(3 , layer_out.shape[0]//3, layer_out.shape[1])\n",
    "    ### converst to numpy arrays\n",
    "    linear1 = linear1.detach().numpy()\n",
    "    linear2 = linear2.detach().numpy()\n",
    "    linear3 = linear3.detach().numpy()\n",
    "    linear4 = linear4.detach().numpy()\n",
    "    layer_out = layer_out.detach().numpy()\n",
    "    ### it might not converge without noise!\n",
    "    fi_1_temp = FI_estimation.get_LFI(linear1, delta, 1e-9)\n",
    "    fi_2_temp = FI_estimation.get_LFI(linear2, delta, 1e-9)\n",
    "    fi_3_temp = FI_estimation.get_LFI(linear3, delta, 1e-9)\n",
    "    fi_4_temp = FI_estimation.get_LFI(linear4, delta, 1e-9)\n",
    "    fi_out_temp = FI_estimation.get_LFI(layer_out, delta, 1e-9)\n",
    "\n",
    "    linear1 = (FI_estimation.ReLU(linear1))\n",
    "    linear2 = (FI_estimation.ReLU(linear2))\n",
    "    linear3 = (FI_estimation.ReLU(linear3))\n",
    "    linear4 = (FI_estimation.ReLU(linear4))\n",
    "    layer_out = (layer_out)\n",
    "\n",
    "    fi_1 = FI_estimation.get_FI(linear1, delta, upperLimit, step, kappa, constant_threshold=gamma, \n",
    "                               noise_factor=noise, biasedLFI=True)\n",
    "    fi_2 = FI_estimation.get_FI(linear2, delta, upperLimit, step, kappa, constant_threshold=gamma, noise_factor=noise, biasedLFI=True)\n",
    "    fi_3 = FI_estimation.get_FI(linear3, delta, upperLimit, step, kappa, constant_threshold=gamma, noise_factor=noise, biasedLFI=True)\n",
    "    fi_4 = FI_estimation.get_FI(linear4, delta, upperLimit, step, kappa, constant_threshold=gamma, noise_factor=noise, biasedLFI=True)\n",
    "    fi_out = FI_estimation.get_FI(layer_out, delta, upperLimit, step, kappa, constant_threshold=gamma, noise_factor=noise, biasedLFI=True)\n",
    "\n",
    "#     fi_1 = max(fi_1_temp, fi_1)\n",
    "#     fi_2 = max(fi_2_temp, fi_2)\n",
    "#     fi_3 = max(fi_3_temp, fi_3)\n",
    "#     fi_4 = max(fi_4_temp, fi_4)\n",
    "#     fi_out = max(fi_out_temp[0], fi_out)\n",
    "    if isinstance(fi_out, np.ndarray): fi_out = fi_out.item()\n",
    "    fi = np.array([fi_in,fi_1,fi_2,fi_3,fi_4,fi_out])\n",
    "    print(fi)\n",
    "    fi_array.append(fi)\n",
    "    print(\"#------------------------------------------------------#\")"
   ]
  },
  {
   "cell_type": "code",
   "execution_count": 1,
   "metadata": {
    "scrolled": true
   },
   "outputs": [
    {
     "ename": "NameError",
     "evalue": "name 'plt' is not defined",
     "output_type": "error",
     "traceback": [
      "\u001b[0;31m---------------------------------------------------------------------------\u001b[0m",
      "\u001b[0;31mNameError\u001b[0m                                 Traceback (most recent call last)",
      "Cell \u001b[0;32mIn[1], line 1\u001b[0m\n\u001b[0;32m----> 1\u001b[0m \u001b[43mplt\u001b[49m\u001b[38;5;241m.\u001b[39mplot(np\u001b[38;5;241m.\u001b[39marray(fi_array)\u001b[38;5;241m.\u001b[39mT)\n\u001b[1;32m      2\u001b[0m plt\u001b[38;5;241m.\u001b[39mshow()\n",
      "\u001b[0;31mNameError\u001b[0m: name 'plt' is not defined"
     ]
    }
   ],
   "source": [
    "plt.plot(np.array(fi_array).T)\n",
    "plt.show()"
   ]
  },
  {
   "cell_type": "code",
   "execution_count": 15,
   "metadata": {},
   "outputs": [],
   "source": [
    "#np.save(\"Plots\" + os.sep + \"fi_flow_Lognormal.npy\", np.array(fi_array))"
   ]
  },
  {
   "cell_type": "markdown",
   "metadata": {},
   "source": [
    "### trash"
   ]
  },
  {
   "cell_type": "code",
   "execution_count": 6,
   "metadata": {},
   "outputs": [
    {
     "name": "stdout",
     "output_type": "stream",
     "text": [
      "components ignored:  16\n"
     ]
    },
    {
     "data": {
      "text/plain": [
       "9.051985755632222"
      ]
     },
     "execution_count": 6,
     "metadata": {},
     "output_type": "execute_result"
    }
   ],
   "source": [
    "def get_LFI(data, delta, cutoff):\n",
    "    mu = np.mean(data, axis=1)\n",
    "    dmu = (mu[2]-mu[0])/(2*delta)\n",
    "    cov = (np.cov(data[0].T)+np.cov(data[2].T))/2\n",
    "    if data.shape[2] > 1:\n",
    "        u, s, vh = np.linalg.svd(cov, full_matrices=True)\n",
    "        count = 0\n",
    "        s_inv = np.zeros(shape=s.shape[0])\n",
    "        for i in range(s.shape[0]):\n",
    "            if np.abs(s[i])<cutoff:\n",
    "                count += 1\n",
    "                s[i] = 0.\n",
    "            else:\n",
    "                s_inv[i] = 1/s[i]\n",
    "        if count > 0:\n",
    "            print(\"components ignored: \", count)\n",
    "        lfi = dmu.T@vh.T@np.diag(s_inv)@u.T@dmu  \n",
    "    elif data.shape[2] == 1:\n",
    "        lfi = dmu**2/cov\n",
    "    else:\n",
    "        print(\"wrong shape of data\")\n",
    "    T = data.shape[1]\n",
    "    N = data.shape[2]\n",
    "    return lfi - 2*N/(T*(2*delta)**2)\n",
    "get_LFI(linear2, delta, 1e-9)"
   ]
  },
  {
   "cell_type": "code",
   "execution_count": 9,
   "metadata": {},
   "outputs": [],
   "source": [
    "upperLimit = 1500\n",
    "step = 100"
   ]
  },
  {
   "cell_type": "code",
   "execution_count": 7,
   "metadata": {
    "scrolled": false
   },
   "outputs": [
    {
     "name": "stdout",
     "output_type": "stream",
     "text": [
      "lfi =  5.654014351960666\n",
      "lfi =  6.322448077172988\n",
      "lfi =  6.537939493067665\n"
     ]
    },
    {
     "ename": "KeyboardInterrupt",
     "evalue": "",
     "output_type": "error",
     "traceback": [
      "\u001b[0;31m---------------------------------------------------------------------------\u001b[0m",
      "\u001b[0;31mKeyboardInterrupt\u001b[0m                         Traceback (most recent call last)",
      "Cell \u001b[0;32mIn[7], line 1\u001b[0m\n\u001b[0;32m----> 1\u001b[0m curve \u001b[38;5;241m=\u001b[39m \u001b[43mFI_estimation\u001b[49m\u001b[38;5;241;43m.\u001b[39;49m\u001b[43mget_FI_curve\u001b[49m\u001b[43m(\u001b[49m\u001b[43mlinear4\u001b[49m\u001b[43m,\u001b[49m\u001b[43m \u001b[49m\u001b[43mdelta\u001b[49m\u001b[43m,\u001b[49m\u001b[43m \u001b[49m\u001b[43mupperLimit\u001b[49m\u001b[43m,\u001b[49m\u001b[43m \u001b[49m\u001b[43mstep\u001b[49m\u001b[43m,\u001b[49m\u001b[43m \u001b[49m\u001b[43mkappa\u001b[49m\u001b[43m,\u001b[49m\u001b[43m \u001b[49m\u001b[43mconstant_threshold\u001b[49m\u001b[38;5;241;43m=\u001b[39;49m\u001b[43mgamma\u001b[49m\u001b[43m,\u001b[49m\u001b[43m \u001b[49m\n\u001b[1;32m      2\u001b[0m \u001b[43m                               \u001b[49m\u001b[43mnoise_factor\u001b[49m\u001b[38;5;241;43m=\u001b[39;49m\u001b[43mnoise\u001b[49m\u001b[43m,\u001b[49m\u001b[43m \u001b[49m\u001b[43mbiasedLFI\u001b[49m\u001b[38;5;241;43m=\u001b[39;49m\u001b[38;5;28;43;01mTrue\u001b[39;49;00m\u001b[43m)\u001b[49m\n",
      "File \u001b[0;32m~/FI_Flow/clean_code/FI_estimation.py:115\u001b[0m, in \u001b[0;36mget_FI_curve\u001b[0;34m(data, delta, lim, step_size, fluctuation_threshold, constant_threshold, noise_factor, biasedLFI)\u001b[0m\n\u001b[1;32m    113\u001b[0m \u001b[38;5;28;01mfor\u001b[39;00m up \u001b[38;5;129;01min\u001b[39;00m \u001b[38;5;28mrange\u001b[39m(\u001b[38;5;241m0\u001b[39m,lim,step_size):\n\u001b[1;32m    114\u001b[0m     r_up \u001b[38;5;241m=\u001b[39m np\u001b[38;5;241m.\u001b[39mrandom\u001b[38;5;241m.\u001b[39mnormal(\u001b[38;5;241m0.\u001b[39m,\u001b[38;5;241m1.\u001b[39m, size\u001b[38;5;241m=\u001b[39m(dim\u001b[38;5;241m+\u001b[39mup, dim))\n\u001b[0;32m--> 115\u001b[0m     transformed_data \u001b[38;5;241m=\u001b[39m \u001b[43mactivation\u001b[49m\u001b[43m(\u001b[49m\u001b[43mnp\u001b[49m\u001b[38;5;241;43m.\u001b[39;49m\u001b[43meinsum\u001b[49m\u001b[43m(\u001b[49m\u001b[38;5;124;43m'\u001b[39;49m\u001b[38;5;124;43mij, abj -> abi\u001b[39;49m\u001b[38;5;124;43m'\u001b[39;49m\u001b[43m,\u001b[49m\u001b[43m \u001b[49m\u001b[43mr_up\u001b[49m\u001b[43m,\u001b[49m\u001b[43m \u001b[49m\u001b[43mdata\u001b[49m\u001b[43m)\u001b[49m\u001b[43m)\u001b[49m\n\u001b[1;32m    116\u001b[0m     a \u001b[38;5;241m=\u001b[39m transformed_data\u001b[38;5;241m.\u001b[39mshape[\u001b[38;5;241m0\u001b[39m]\n\u001b[1;32m    117\u001b[0m     b \u001b[38;5;241m=\u001b[39m transformed_data\u001b[38;5;241m.\u001b[39mshape[\u001b[38;5;241m1\u001b[39m]\n",
      "File \u001b[0;32m~/FI_Flow/clean_code/FI_estimation.py:53\u001b[0m, in \u001b[0;36mactivation\u001b[0;34m(x)\u001b[0m\n\u001b[1;32m     52\u001b[0m \u001b[38;5;28;01mdef\u001b[39;00m \u001b[38;5;21mactivation\u001b[39m(x):\n\u001b[0;32m---> 53\u001b[0m     \u001b[38;5;28;01mreturn\u001b[39;00m x\u001b[38;5;241m*\u001b[39m(np\u001b[38;5;241m.\u001b[39mheaviside(x, \u001b[38;5;241m0\u001b[39m)\u001b[38;5;241m+\u001b[39m\u001b[38;5;241m0.7\u001b[39m\u001b[38;5;241m*\u001b[39m\u001b[43mnp\u001b[49m\u001b[38;5;241;43m.\u001b[39;49m\u001b[43mheaviside\u001b[49m\u001b[43m(\u001b[49m\u001b[38;5;241;43m-\u001b[39;49m\u001b[43mx\u001b[49m\u001b[43m,\u001b[49m\u001b[43m \u001b[49m\u001b[38;5;241;43m0\u001b[39;49m\u001b[43m)\u001b[49m)\n",
      "\u001b[0;31mKeyboardInterrupt\u001b[0m: "
     ]
    }
   ],
   "source": [
    "curve = FI_estimation.get_FI_curve(linear4, delta, upperLimit, step, kappa, constant_threshold=gamma, \n",
    "                               noise_factor=noise, biasedLFI=True)"
   ]
  },
  {
   "cell_type": "code",
   "execution_count": 12,
   "metadata": {},
   "outputs": [
    {
     "data": {
      "text/plain": [
       "[<matplotlib.lines.Line2D at 0x7f04e999a620>]"
      ]
     },
     "execution_count": 12,
     "metadata": {},
     "output_type": "execute_result"
    },
    {
     "data": {
      "image/png": "[encoded data removed]",
      "text/plain": [
       "<Figure size 640x480 with 1 Axes>"
      ]
     },
     "metadata": {},
     "output_type": "display_data"
    }
   ],
   "source": [
    "x = []\n",
    "for up in range(0,upperLimit,step):\n",
    "    x.append(up)\n",
    "x = np.array(x)\n",
    "curve = np.array(curve)\n",
    "plt.plot(x,curve)"
   ]
  },
  {
   "cell_type": "code",
   "execution_count": 39,
   "metadata": {},
   "outputs": [],
   "source": [
    "\n",
    "np.savez('Plots'+os.sep+'FIConvergenceLognormal.npz',\n",
    "         curve=curve,\n",
    "        x=x)"
   ]
  },
  {
   "cell_type": "code",
   "execution_count": 11,
   "metadata": {},
   "outputs": [
    {
     "ename": "NameError",
     "evalue": "name 'x' is not defined",
     "output_type": "error",
     "traceback": [
      "\u001b[0;31m---------------------------------------------------------------------------\u001b[0m",
      "\u001b[0;31mNameError\u001b[0m                                 Traceback (most recent call last)",
      "Cell \u001b[0;32mIn[11], line 1\u001b[0m\n\u001b[0;32m----> 1\u001b[0m plt\u001b[38;5;241m.\u001b[39mplot(\u001b[43mx\u001b[49m,curve)\n",
      "\u001b[0;31mNameError\u001b[0m: name 'x' is not defined"
     ]
    }
   ],
   "source": []
  },
  {
   "cell_type": "code",
   "execution_count": 12,
   "metadata": {},
   "outputs": [
    {
     "name": "stdout",
     "output_type": "stream",
     "text": [
      "calculating FI\n",
      "components ignored:  16\n",
      "up:  0\n",
      "up:  50\n",
      "up:  100\n",
      "LFI didn't increase after the 3rd iteration:  200\n"
     ]
    },
    {
     "data": {
      "text/plain": [
       "9.14427130645186"
      ]
     },
     "execution_count": 12,
     "metadata": {},
     "output_type": "execute_result"
    }
   ],
   "source": [
    "fi_1 = FI_estimation.get_FI(linear2, delta, upperLimit, step, kappa, constant_threshold=gamma, \n",
    "                           noise_factor=noise, biasedLFI=True)\n",
    "fi_1"
   ]
  },
  {
   "cell_type": "code",
   "execution_count": null,
   "metadata": {},
   "outputs": [],
   "source": [
    "fi_1_temp = FI_estimation.get_LFI(linear1, delta, 1e-9)\n",
    "fi_2_temp = FI_estimation.get_LFI(linear2, delta, 1e-9)\n",
    "fi_3_temp = FI_estimation.get_LFI(linear3, delta, 1e-9)\n",
    "fi_4_temp = FI_estimation.get_LFI(linear4, delta, 1e-9)\n",
    "fi_out_temp = FI_estimation.get_LFI(layer_out, delta, 1e-9)"
   ]
  },
  {
   "cell_type": "code",
   "execution_count": null,
   "metadata": {
    "scrolled": true
   },
   "outputs": [
    {
     "name": "stdout",
     "output_type": "stream",
     "text": [
      "components ignored:  11\n",
      "lfi =  9.798664894927976\n"
     ]
    }
   ],
   "source": [
    "curve = FI_estimation.get_FI_curve(linear1, delta, upperLimit, step, kappa, constant_threshold=gamma, noise_factor=noise, biasedLFI=True)\n"
   ]
  }
 ],
 "metadata": {
  "kernelspec": {
   "display_name": "ML",
   "language": "python",
   "name": "ml"
  },
  "language_info": {
   "codemirror_mode": {
    "name": "ipython",
    "version": 3
   },
   "file_extension": ".py",
   "mimetype": "text/x-python",
   "name": "python",
   "nbconvert_exporter": "python",
   "pygments_lexer": "ipython3",
   "version": "3.10.9"
  }
 },
 "nbformat": 4,
 "nbformat_minor": 2
}
