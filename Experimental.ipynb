{
 "cells": [
  {
   "cell_type": "code",
   "execution_count": 1,
   "metadata": {},
   "outputs": [
    {
     "name": "stderr",
     "output_type": "stream",
     "text": [
      "/home/maximilian/anaconda3/envs/ML/lib/python3.10/site-packages/torchvision/io/image.py:13: UserWarning: Failed to load image Python extension: 'libc10_cuda.so: cannot open shared object file: No such file or directory'If you don't plan on using image functionality from `torchvision.io`, you can ignore this warning. Otherwise, there might be something wrong with your environment. Did you have `libjpeg` or `libpng` installed before building `torchvision` from source?\n",
      "  warn(\n"
     ]
    }
   ],
   "source": [
    "import FI_estimation\n",
    "import torch\n",
    "from torch import nn\n",
    "from torch.nn import functional as F\n",
    "import torch.utils.data as Data\n",
    "from torch.utils.data import Dataset, DataLoader, TensorDataset\n",
    "from torch import optim\n",
    "import numpy as np\n",
    "from matplotlib import pyplot as plt\n",
    "import os\n",
    "from scipy import ndimage\n",
    "\n",
    "torch.device(\"cuda\" if torch.cuda.is_available() else \"cpu\")\n",
    "device = torch.device(\"cuda\" if torch.cuda.is_available() else \"cpu\")\n",
    "from torchvision.models.feature_extraction import get_graph_node_names\n",
    "from torchvision.models.feature_extraction import create_feature_extractor"
   ]
  },
  {
   "cell_type": "code",
   "execution_count": 2,
   "metadata": {},
   "outputs": [
    {
     "name": "stdout",
     "output_type": "stream",
     "text": [
      "training sample size:  650000\n"
     ]
    }
   ],
   "source": [
    "# regular experimental data\n",
    "type = np.float64\n",
    "x_tr = np.load(\"Data\"+os.sep+\"x_tr.npy\")\n",
    "y_tr = np.load(\"Data\"+os.sep+\"y_tr.npy\")\n",
    "x_tst = np.load(\"Data\"+os.sep+\"x_tst.npy\")\n",
    "delta = 0.3\n",
    "#\n",
    "# crop the positions\n",
    "steps = 13\n",
    "x_tr = x_tr.reshape(steps,50000,1,18,24)\n",
    "y_tr = y_tr.reshape(steps,50000)\n",
    "idx = np.arange(50000)\n",
    "np.random.shuffle(idx)\n",
    "x_tr = x_tr[:,idx]\n",
    "y_tr = y_tr[:,idx]\n",
    "#\n",
    "y_tr = y_tr.reshape(y_tr.shape[0]*y_tr.shape[1])\n",
    "x_tr = x_tr.reshape(x_tr.shape[0]*x_tr.shape[1],1,18,24)\n",
    "print(\"training sample size: \", y_tr.shape[0])"
   ]
  },
  {
   "cell_type": "code",
   "execution_count": 3,
   "metadata": {
    "scrolled": true
   },
   "outputs": [],
   "source": [
    "def shuffle_split_data(X, y, ratio=0.5):\n",
    "    arr_rand = np.random.rand(X.shape[0])\n",
    "    split = arr_rand < np.percentile(arr_rand, ratio*100)\n",
    "\n",
    "    X_train = X[split]\n",
    "    y_train = y[split]\n",
    "    X_test =  X[~split]\n",
    "    y_test = y[~split]\n",
    "    return X_train, X_test, y_train, y_test\n",
    "\n",
    "a = x_tr.shape[0]\n",
    "std = np.std(x_tr, axis=0)\n",
    "std[std==0] = 1\n",
    "mean = np.mean(x_tr, axis=0)\n",
    "\n",
    "for i in range(a): \n",
    "    x_tr[i] = (x_tr[i]-mean)/std\n",
    "for i in range(x_tst.shape[0]): \n",
    "    x_tst[i] = (x_tst[i]-mean[0])/std[0]\n",
    "# ###\n",
    "# cf = 4 * (np.max(y_tr)/2)**2\n",
    "# print(\"multiply the output variance with\", cf)\n",
    "# y_tr = y_tr-np.min(y_tr)\n",
    "# y_tr = 2 * ( y_tr / np.max(y_tr) - 0.5 )\n",
    "\n",
    "X_train, X_val, Y_train, Y_val = shuffle_split_data(x_tr, y_tr, ratio=0.8)\n",
    "x_tr = None\n",
    "y_tr = None\n",
    "\n",
    "X_train = X_train.astype(type)\n",
    "Y_train = Y_train.astype(type)\n",
    "X_val = X_val.astype(type)\n",
    "Y_val = Y_val.astype(type)\n",
    "x_tst = x_tst.astype(np.float64)"
   ]
  },
  {
   "cell_type": "code",
   "execution_count": 4,
   "metadata": {},
   "outputs": [
    {
     "name": "stderr",
     "output_type": "stream",
     "text": [
      "/tmp/ipykernel_22516/1397782601.py:2: UserWarning: The use of `x.T` on tensors of dimension other than 2 to reverse their shape is deprecated and it will throw an error in a future release. Consider `x.mT` to transpose batches of matricesor `x.permute(*torch.arange(x.ndim - 1, -1, -1))` to reverse the dimensions of a tensor. (Triggered internally at  /opt/conda/conda-bld/pytorch_1646755832681/work/aten/src/ATen/native/TensorShape.cpp:2318.)\n",
      "  train_set = TensorDataset(torch.tensor(X_train), torch.tensor(Y_train).T)\n"
     ]
    }
   ],
   "source": [
    "torch.set_default_tensor_type(torch.DoubleTensor)\n",
    "train_set = TensorDataset(torch.tensor(X_train), torch.tensor(Y_train).T)\n",
    "val_set = TensorDataset(torch.tensor(X_val), torch.tensor(Y_val).T)\n",
    "\n",
    "bs = 128\n",
    "train_loader = Data.DataLoader(train_set, batch_size=bs, shuffle=True)\n",
    "validation_loader = Data.DataLoader(val_set, batch_size=bs, shuffle=True)"
   ]
  },
  {
   "cell_type": "code",
   "execution_count": 5,
   "metadata": {},
   "outputs": [],
   "source": [
    "class Model(nn.Module):\n",
    "    def __init__(self, n):\n",
    "        super(Model, self).__init__()\n",
    "        self.linear1 = nn.Linear(n[0], n[1])\n",
    "        self.linear2 = nn.Linear(n[1], n[2])\n",
    "        self.linear3 = nn.Linear(n[2], n[3])\n",
    "        self.linear4 = nn.Linear(n[3], n[4])\n",
    "        self.linear5 = nn.Linear(n[4], n[5])\n",
    "    def forward(self, x):\n",
    "        x = x.view(x.size(0), -1)\n",
    "        x = self.linear1(x)\n",
    "        x = F.relu(x)\n",
    "        x = self.linear2(x)    \n",
    "        x = F.relu(x)\n",
    "        x = self.linear3(x)\n",
    "        x = F.relu(x)\n",
    "        x = self.linear4(x)       \n",
    "        x = F.relu(x)\n",
    "        x = self.linear5(x)  \n",
    "        return x\n",
    "n=[18*24,800,100,25,5,1]"
   ]
  },
  {
   "cell_type": "code",
   "execution_count": null,
   "metadata": {
    "scrolled": true
   },
   "outputs": [
    {
     "name": "stdout",
     "output_type": "stream",
     "text": [
      "epoch=  0 , val=  1.2519757605038562 , train =  1.2566414157615005\n",
      "epoch=  1 , val=  1.2341606006109915 , train =  1.2444794588300487\n",
      "epoch=  2 , val=  1.2062760364595086 , train =  1.2216271786628\n"
     ]
    }
   ],
   "source": [
    "starting_epoch = 0\n",
    "criterion =  nn.MSELoss()\n",
    "n_epochs = 25\n",
    "lr = 5e-7\n",
    "training_loss = 0.\n",
    "validation_loss = 0.\n",
    "net = Model(n).to(device)\n",
    "all_losses = []\n",
    "all_losses_val = []\n",
    "all_losses.append(training_loss/len(train_loader))\n",
    "all_losses_val.append(validation_loss/len(validation_loader))\n",
    "torch.save(net,  'Models' +os.sep+ 'epoch' + str(0)+'Experimental.pth')\n",
    "\n",
    "for epoch in range(starting_epoch, starting_epoch + n_epochs):\n",
    "    optimizer = optim.Adam(net.parameters(), lr=lr, weight_decay=0.003)\n",
    "    net.train()\n",
    "    training_loss = 0.\n",
    "    validation_loss = 0.\n",
    "    batch_count = 0\n",
    "30\n",
    "    net.eval()\n",
    "31\n",
    "    with torch.no_grad():\n",
    "32\n",
    "        for inputs, target in validation_loader:\n",
    "33\n",
    "            inputs = inputs.to(device)\n",
    "34\n",
    "            target = target.to(device)\n",
    "35\n",
    "            y_pred = net(inputs)\n",
    "    for inputs, target in train_loader:\n",
    "        inputs = inputs.to(device)\n",
    "        target = target.to(device)\n",
    "        batch_count += 1\n",
    "        y_pred = net(inputs)\n",
    "        loss = criterion(y_pred,  torch.unsqueeze(target,dim=1)  )\n",
    "        optimizer.zero_grad()\n",
    "        loss.backward()\n",
    "        optimizer.step()\n",
    "        training_loss += loss.item()\n",
    "    net.eval()\n",
    "    with torch.no_grad():\n",
    "        for inputs, target in validation_loader:\n",
    "            inputs = inputs.to(device)\n",
    "            target = target.to(device)\n",
    "            y_pred = net(inputs)\n",
    "            loss_val = criterion(y_pred,  torch.unsqueeze(target,dim=1) )\n",
    "            validation_loss += loss_val.item()\n",
    "    print(\"epoch= \", epoch, \", val= \", validation_loss/len(validation_loader),\", train = \", training_loss/len(train_loader))\n",
    "    torch.save(net,   'Models' +os.sep+ 'epoch' + str(epoch+1)+'Experimental.pth')\n",
    "    all_losses_val.append(validation_loss/len(validation_loader))\n",
    "    all_losses.append(training_loss/len(train_loader))"
   ]
  },
  {
   "cell_type": "code",
   "execution_count": 28,
   "metadata": {},
   "outputs": [],
   "source": [
    "# np.savez('Plots'+os.sep+'losses_SpaceInvader.npz',\n",
    "#          all_losses=all_losses,\n",
    "#         all_losses_val = all_losses_val)"
   ]
  },
  {
   "cell_type": "code",
   "execution_count": 6,
   "metadata": {},
   "outputs": [],
   "source": [
    "# x_tst = x_tst.astype(np.float64)\n",
    "# x_minus = x_tst[0]\n",
    "# x_middle = x_tst[1]\n",
    "# x_plus = x_tst[2]"
   ]
  },
  {
   "cell_type": "code",
   "execution_count": 6,
   "metadata": {
    "scrolled": true
   },
   "outputs": [
    {
     "name": "stdout",
     "output_type": "stream",
     "text": [
      "X.shape torch.Size([450000, 18, 24])\n",
      "calculating FI\n",
      "up:  0\n"
     ]
    },
    {
     "ename": "KeyboardInterrupt",
     "evalue": "",
     "output_type": "error",
     "traceback": [
      "\u001b[0;31m---------------------------------------------------------------------------\u001b[0m",
      "\u001b[0;31mKeyboardInterrupt\u001b[0m                         Traceback (most recent call last)",
      "Cell \u001b[0;32mIn[6], line 58\u001b[0m\n\u001b[1;32m     50\u001b[0m     layer_out \u001b[38;5;241m=\u001b[39m (layer_out)\n\u001b[1;32m     51\u001b[0m     \u001b[38;5;66;03m### it might not converge without noise!\u001b[39;00m\n\u001b[1;32m     52\u001b[0m \u001b[38;5;66;03m#     fi_1_temp = FI_estimation.get_LFI(linear1, delta, 1e-9)\u001b[39;00m\n\u001b[1;32m     53\u001b[0m \u001b[38;5;66;03m#     fi_2_temp = FI_estimation.get_LFI(linear2, delta, 1e-9)\u001b[39;00m\n\u001b[1;32m     54\u001b[0m \u001b[38;5;66;03m#     fi_3_temp = FI_estimation.get_LFI(linear3, delta, 1e-9)\u001b[39;00m\n\u001b[1;32m     55\u001b[0m \u001b[38;5;66;03m#     fi_4_temp = FI_estimation.get_LFI(linear4, delta, 1e-9)\u001b[39;00m\n\u001b[1;32m     56\u001b[0m \u001b[38;5;66;03m#     fi_out_temp = FI_estimation.get_LFI(layer_out, delta, 1e-9)\u001b[39;00m\n\u001b[0;32m---> 58\u001b[0m     fi_1 \u001b[38;5;241m=\u001b[39m \u001b[43mFI_estimation\u001b[49m\u001b[38;5;241;43m.\u001b[39;49m\u001b[43mget_FI\u001b[49m\u001b[43m(\u001b[49m\u001b[43mlinear1\u001b[49m\u001b[43m,\u001b[49m\u001b[43m \u001b[49m\u001b[43mdelta\u001b[49m\u001b[43m,\u001b[49m\u001b[43m \u001b[49m\u001b[43mupperLimit\u001b[49m\u001b[43m,\u001b[49m\u001b[43m \u001b[49m\u001b[43mstep\u001b[49m\u001b[43m,\u001b[49m\u001b[43m \u001b[49m\u001b[43mkappa\u001b[49m\u001b[43m,\u001b[49m\u001b[43m \u001b[49m\u001b[43mconstant_threshold\u001b[49m\u001b[38;5;241;43m=\u001b[39;49m\u001b[43mgamma\u001b[49m\u001b[43m,\u001b[49m\u001b[43m \u001b[49m\n\u001b[1;32m     59\u001b[0m \u001b[43m                               \u001b[49m\u001b[43mnoise_factor\u001b[49m\u001b[38;5;241;43m=\u001b[39;49m\u001b[43mnoise\u001b[49m\u001b[43m,\u001b[49m\u001b[43m \u001b[49m\u001b[43mbiasedLFI\u001b[49m\u001b[38;5;241;43m=\u001b[39;49m\u001b[38;5;28;43;01mTrue\u001b[39;49;00m\u001b[43m)\u001b[49m\n\u001b[1;32m     60\u001b[0m     fi_2 \u001b[38;5;241m=\u001b[39m FI_estimation\u001b[38;5;241m.\u001b[39mget_FI(linear2, delta, upperLimit, step, kappa, constant_threshold\u001b[38;5;241m=\u001b[39mgamma, noise_factor\u001b[38;5;241m=\u001b[39mnoise, biasedLFI\u001b[38;5;241m=\u001b[39m\u001b[38;5;28;01mTrue\u001b[39;00m)\n\u001b[1;32m     61\u001b[0m     fi_3 \u001b[38;5;241m=\u001b[39m FI_estimation\u001b[38;5;241m.\u001b[39mget_FI(linear3, delta, upperLimit, step, kappa, constant_threshold\u001b[38;5;241m=\u001b[39mgamma, noise_factor\u001b[38;5;241m=\u001b[39mnoise, biasedLFI\u001b[38;5;241m=\u001b[39m\u001b[38;5;28;01mTrue\u001b[39;00m)\n",
      "File \u001b[0;32m~/FI_Flow/clean_code/FI_estimation.py:74\u001b[0m, in \u001b[0;36mget_FI\u001b[0;34m(data, delta, lim, step_size, fluctuation_threshold, constant_threshold, noise_factor, biasedLFI)\u001b[0m\n\u001b[1;32m     72\u001b[0m \u001b[38;5;28mprint\u001b[39m(\u001b[38;5;124m\"\u001b[39m\u001b[38;5;124mup: \u001b[39m\u001b[38;5;124m\"\u001b[39m, up)\n\u001b[1;32m     73\u001b[0m r_up \u001b[38;5;241m=\u001b[39m np\u001b[38;5;241m.\u001b[39mrandom\u001b[38;5;241m.\u001b[39mnormal(\u001b[38;5;241m0.\u001b[39m,\u001b[38;5;241m1.\u001b[39m, size\u001b[38;5;241m=\u001b[39m(dim\u001b[38;5;241m+\u001b[39mup, dim)) \u001b[38;5;66;03m# random projection\u001b[39;00m\n\u001b[0;32m---> 74\u001b[0m transformed_data \u001b[38;5;241m=\u001b[39m activation(\u001b[43mnp\u001b[49m\u001b[38;5;241;43m.\u001b[39;49m\u001b[43meinsum\u001b[49m\u001b[43m(\u001b[49m\u001b[38;5;124;43m'\u001b[39;49m\u001b[38;5;124;43mij, abj -> abi\u001b[39;49m\u001b[38;5;124;43m'\u001b[39;49m\u001b[43m,\u001b[49m\u001b[43m \u001b[49m\u001b[43mr_up\u001b[49m\u001b[43m,\u001b[49m\u001b[43m \u001b[49m\u001b[43mdata\u001b[49m\u001b[43m)\u001b[49m) \u001b[38;5;66;03m# non-linear activation\u001b[39;00m\n\u001b[1;32m     75\u001b[0m a \u001b[38;5;241m=\u001b[39m transformed_data\u001b[38;5;241m.\u001b[39mshape[\u001b[38;5;241m0\u001b[39m]\n\u001b[1;32m     76\u001b[0m b \u001b[38;5;241m=\u001b[39m transformed_data\u001b[38;5;241m.\u001b[39mshape[\u001b[38;5;241m1\u001b[39m]\n",
      "File \u001b[0;32m<__array_function__ internals>:200\u001b[0m, in \u001b[0;36meinsum\u001b[0;34m(*args, **kwargs)\u001b[0m\n",
      "File \u001b[0;32m~/anaconda3/envs/ML/lib/python3.10/site-packages/numpy/core/einsumfunc.py:1371\u001b[0m, in \u001b[0;36meinsum\u001b[0;34m(out, optimize, *operands, **kwargs)\u001b[0m\n\u001b[1;32m   1369\u001b[0m     \u001b[38;5;28;01mif\u001b[39;00m specified_out:\n\u001b[1;32m   1370\u001b[0m         kwargs[\u001b[38;5;124m'\u001b[39m\u001b[38;5;124mout\u001b[39m\u001b[38;5;124m'\u001b[39m] \u001b[38;5;241m=\u001b[39m out\n\u001b[0;32m-> 1371\u001b[0m     \u001b[38;5;28;01mreturn\u001b[39;00m \u001b[43mc_einsum\u001b[49m\u001b[43m(\u001b[49m\u001b[38;5;241;43m*\u001b[39;49m\u001b[43moperands\u001b[49m\u001b[43m,\u001b[49m\u001b[43m \u001b[49m\u001b[38;5;241;43m*\u001b[39;49m\u001b[38;5;241;43m*\u001b[39;49m\u001b[43mkwargs\u001b[49m\u001b[43m)\u001b[49m\n\u001b[1;32m   1373\u001b[0m \u001b[38;5;66;03m# Check the kwargs to avoid a more cryptic error later, without having to\u001b[39;00m\n\u001b[1;32m   1374\u001b[0m \u001b[38;5;66;03m# repeat default values here\u001b[39;00m\n\u001b[1;32m   1375\u001b[0m valid_einsum_kwargs \u001b[38;5;241m=\u001b[39m [\u001b[38;5;124m'\u001b[39m\u001b[38;5;124mdtype\u001b[39m\u001b[38;5;124m'\u001b[39m, \u001b[38;5;124m'\u001b[39m\u001b[38;5;124morder\u001b[39m\u001b[38;5;124m'\u001b[39m, \u001b[38;5;124m'\u001b[39m\u001b[38;5;124mcasting\u001b[39m\u001b[38;5;124m'\u001b[39m]\n",
      "\u001b[0;31mKeyboardInterrupt\u001b[0m: "
     ]
    }
   ],
   "source": [
    "### calculating the FI Flow for different runs:\n",
    "### parameters \n",
    "fi_in = 1.6\n",
    "kappa = 0.1 # ratio of slopes\n",
    "gamma = 0.05 # stop when the LFI doesn't improve in the first iterations \n",
    "noise = 0.01 # noise added\n",
    "step = 30 # 10 increase of dimensionality\n",
    "upperLimit = 200 # maximum increase \n",
    "n_epochs = 20\n",
    "X = x_tst\n",
    "#X = X.reshape(X.shape[0]*X.shape[1], X.shape[2]) \n",
    "X = torch.tensor(X)\n",
    "print(\"X.shape\", X.shape)\n",
    "fi_array = []\n",
    "for epoch in range(n_epochs):\n",
    "    net = Model(n)\n",
    "    net = torch.load('Models'+os.sep + 'epoch'+ str(epoch)+'Experimental.pth', map_location=torch.device('cpu'))\n",
    "    net.eval()\n",
    "    ###\n",
    "    return_nodes = {\n",
    "        \"linear1\": \"linear1\",\n",
    "        \"linear2\": \"linear2\",\n",
    "        \"linear3\": \"linear3\",\n",
    "        \"linear4\": \"linear4\"}\n",
    "    model2 = create_feature_extractor(net, return_nodes=return_nodes)\n",
    "    intermediate_outputs = model2(X)\n",
    "\n",
    "    linear1 = intermediate_outputs['linear1']\n",
    "    linear2 = intermediate_outputs['linear2']\n",
    "    linear3 = intermediate_outputs['linear3']\n",
    "    linear4 = intermediate_outputs['linear4']\n",
    "    layer_out = net(X)\n",
    "    ##############\n",
    "    linear1 = linear1.reshape(3 , linear1.shape[0]//3, linear1.shape[1])\n",
    "    linear2 = linear2.reshape(3 , linear2.shape[0]//3, linear2.shape[1])\n",
    "    linear3 = linear3.reshape(3 , linear3.shape[0]//3, linear3.shape[1])\n",
    "    linear4 = linear4.reshape(3 , linear4.shape[0]//3, linear4.shape[1])\n",
    "    layer_out = layer_out.reshape(3 , layer_out.shape[0]//3, layer_out.shape[1])\n",
    "    ### converst to numpy arrays\n",
    "    linear1 = linear1.detach().numpy()\n",
    "    linear2 = linear2.detach().numpy()\n",
    "    linear3 = linear3.detach().numpy()\n",
    "    linear4 = linear4.detach().numpy()\n",
    "    layer_out = layer_out.detach().numpy()\n",
    "\n",
    "    linear1 = (FI_estimation.ReLU(linear1))\n",
    "    linear2 = (FI_estimation.ReLU(linear2))\n",
    "    linear3 = (FI_estimation.ReLU(linear3))\n",
    "    linear4 = (FI_estimation.ReLU(linear4))\n",
    "    layer_out = (layer_out)\n",
    "    ### it might not converge without noise!\n",
    "#     fi_1_temp = FI_estimation.get_LFI(linear1, delta, 1e-9)\n",
    "#     fi_2_temp = FI_estimation.get_LFI(linear2, delta, 1e-9)\n",
    "#     fi_3_temp = FI_estimation.get_LFI(linear3, delta, 1e-9)\n",
    "#     fi_4_temp = FI_estimation.get_LFI(linear4, delta, 1e-9)\n",
    "#     fi_out_temp = FI_estimation.get_LFI(layer_out, delta, 1e-9)\n",
    "\n",
    "    fi_1 = FI_estimation.get_FI(linear1, delta, upperLimit, step, kappa, constant_threshold=gamma, \n",
    "                               noise_factor=noise, biasedLFI=True)\n",
    "    fi_2 = FI_estimation.get_FI(linear2, delta, upperLimit, step, kappa, constant_threshold=gamma, noise_factor=noise, biasedLFI=True)\n",
    "    fi_3 = FI_estimation.get_FI(linear3, delta, upperLimit, step, kappa, constant_threshold=gamma, noise_factor=noise, biasedLFI=True)\n",
    "    fi_4 = FI_estimation.get_FI(linear4, delta, upperLimit, step, kappa, constant_threshold=gamma, noise_factor=noise, biasedLFI=True)\n",
    "    fi_out = FI_estimation.get_FI(layer_out, delta, upperLimit, step, kappa, constant_threshold=gamma, noise_factor=noise, biasedLFI=True)\n",
    "\n",
    "#     fi_1 = max(fi_1_temp, fi_1)\n",
    "#     fi_2 = max(fi_2_temp, fi_2)\n",
    "#     fi_3 = max(fi_3_temp, fi_3)\n",
    "#     fi_4 = max(fi_4_temp, fi_4)\n",
    "#     fi_out = max(fi_out_temp[0], fi_out)\n",
    "    if isinstance(fi_out, np.ndarray): fi_out = fi_out.item()\n",
    "    fi = np.array([fi_in,fi_1,fi_2,fi_3,fi_4,fi_out])\n",
    "    print(fi)\n",
    "    fi_array.append(fi)\n",
    "    print(\"#------------------------------------------------------#\")"
   ]
  },
  {
   "cell_type": "code",
   "execution_count": 13,
   "metadata": {},
   "outputs": [
    {
     "ename": "NameError",
     "evalue": "name 'linear1' is not defined",
     "output_type": "error",
     "traceback": [
      "\u001b[0;31m---------------------------------------------------------------------------\u001b[0m",
      "\u001b[0;31mNameError\u001b[0m                                 Traceback (most recent call last)",
      "Cell \u001b[0;32mIn[13], line 1\u001b[0m\n\u001b[0;32m----> 1\u001b[0m \u001b[43mlinear1\u001b[49m\u001b[38;5;241m.\u001b[39mshape\n",
      "\u001b[0;31mNameError\u001b[0m: name 'linear1' is not defined"
     ]
    }
   ],
   "source": [
    "linear1.shape"
   ]
  },
  {
   "cell_type": "code",
   "execution_count": 35,
   "metadata": {},
   "outputs": [],
   "source": [
    "net = Model(n)\n",
    "net = torch.load('Models'+os.sep + 'epoch'+ str(epoch)+'Experimental.pth', map_location=torch.device('cpu'))\n",
    "net.eval()\n",
    "###\n",
    "return_nodes = {\n",
    "    \"linear1\": \"linear1\",\n",
    "    \"linear2\": \"linear2\",\n",
    "    \"linear3\": \"linear3\",\n",
    "    \"linear4\": \"linear4\"}\n",
    "model2 = create_feature_extractor(net, return_nodes=return_nodes)\n",
    "intermediate_outputs = model2(X)\n",
    "\n",
    "linear1 = intermediate_outputs['linear1']\n",
    "linear2 = intermediate_outputs['linear2']\n",
    "linear3 = intermediate_outputs['linear3']\n",
    "linear4 = intermediate_outputs['linear4']\n",
    "layer_out = net(X)\n",
    "##############\n",
    "linear1 = linear1.reshape(3 , linear1.shape[0]//3, linear1.shape[1])\n",
    "linear2 = linear2.reshape(3 , linear2.shape[0]//3, linear2.shape[1])\n",
    "linear3 = linear3.reshape(3 , linear3.shape[0]//3, linear3.shape[1])\n",
    "linear4 = linear4.reshape(3 , linear4.shape[0]//3, linear4.shape[1])\n",
    "layer_out = layer_out.reshape(3 , layer_out.shape[0]//3, layer_out.shape[1])\n",
    "### converst to numpy arrays\n",
    "linear1 = linear1.detach().numpy()\n",
    "linear2 = linear2.detach().numpy()\n",
    "linear3 = linear3.detach().numpy()\n",
    "linear4 = linear4.detach().numpy()\n",
    "layer_out = layer_out.detach().numpy()"
   ]
  },
  {
   "cell_type": "code",
   "execution_count": 12,
   "metadata": {},
   "outputs": [
    {
     "data": {
      "text/plain": [
       "[Linear(in_features=432, out_features=800, bias=True),\n",
       " Linear(in_features=800, out_features=100, bias=True),\n",
       " Linear(in_features=100, out_features=25, bias=True),\n",
       " Linear(in_features=25, out_features=5, bias=True),\n",
       " Linear(in_features=5, out_features=1, bias=True)]"
      ]
     },
     "execution_count": 12,
     "metadata": {},
     "output_type": "execute_result"
    }
   ],
   "source": [
    "list(net.children())"
   ]
  },
  {
   "cell_type": "code",
   "execution_count": 7,
   "metadata": {
    "scrolled": true
   },
   "outputs": [
    {
     "data": {
      "text/plain": [
       "[<matplotlib.lines.Line2D at 0x7f6198567be0>,\n",
       " <matplotlib.lines.Line2D at 0x7f6198567c40>,\n",
       " <matplotlib.lines.Line2D at 0x7f6198567e20>,\n",
       " <matplotlib.lines.Line2D at 0x7f6198566f50>,\n",
       " <matplotlib.lines.Line2D at 0x7f6198566e30>,\n",
       " <matplotlib.lines.Line2D at 0x7f6198566a70>,\n",
       " <matplotlib.lines.Line2D at 0x7f6198566a10>,\n",
       " <matplotlib.lines.Line2D at 0x7f6198566980>,\n",
       " <matplotlib.lines.Line2D at 0x7f6198566860>,\n",
       " <matplotlib.lines.Line2D at 0x7f6198566680>,\n",
       " <matplotlib.lines.Line2D at 0x7f61985665f0>,\n",
       " <matplotlib.lines.Line2D at 0x7f6198567bb0>,\n",
       " <matplotlib.lines.Line2D at 0x7f6198566d10>,\n",
       " <matplotlib.lines.Line2D at 0x7f6198565990>,\n",
       " <matplotlib.lines.Line2D at 0x7f6198565660>,\n",
       " <matplotlib.lines.Line2D at 0x7f61985640a0>,\n",
       " <matplotlib.lines.Line2D at 0x7f61985656f0>,\n",
       " <matplotlib.lines.Line2D at 0x7f6198565360>,\n",
       " <matplotlib.lines.Line2D at 0x7f6198567a00>,\n",
       " <matplotlib.lines.Line2D at 0x7f6198567850>]"
      ]
     },
     "execution_count": 7,
     "metadata": {},
     "output_type": "execute_result"
    },
    {
     "data": {
      "image/png": "[encoded data removed]",
      "text/plain": [
       "<Figure size 640x480 with 1 Axes>"
      ]
     },
     "metadata": {},
     "output_type": "display_data"
    }
   ],
   "source": [
    "plt.plot(np.array(fi_array).T)"
   ]
  },
  {
   "cell_type": "code",
   "execution_count": 8,
   "metadata": {},
   "outputs": [],
   "source": [
    "#np.save(\"Plots\" + os.sep + \"fi_flow_SpaceInvader.npy\", np.array(fi_array))"
   ]
  },
  {
   "cell_type": "markdown",
   "metadata": {},
   "source": [
    "### trash"
   ]
  },
  {
   "cell_type": "code",
   "execution_count": 7,
   "metadata": {},
   "outputs": [],
   "source": [
    "def get_LFI(data, delta, cutoff):\n",
    "    mu = np.mean(data, axis=1)\n",
    "    dmu = (mu[2]-mu[0])/(2*delta)\n",
    "    cov = np.cov(data[1].T)#(np.cov(data[0].T)+np.cov(data[2].T))/2\n",
    "    if data.shape[2] > 1:\n",
    "        u, s, vh = np.linalg.svd(cov, full_matrices=True)\n",
    "        count = 0\n",
    "        s_inv = np.zeros(shape=s.shape[0])\n",
    "        for i in range(s.shape[0]):\n",
    "            if np.abs(s[i])<cutoff:\n",
    "                count += 1\n",
    "                s[i] = 0.\n",
    "            else:\n",
    "                s_inv[i] = 1/s[i]\n",
    "        if count > 0:\n",
    "            print(\"components ignored: \", count)\n",
    "        lfi = dmu.T@vh.T@np.diag(s_inv)@u.T@dmu  \n",
    "    elif data.shape[2] == 1:\n",
    "        lfi = dmu**2/cov\n",
    "    else:\n",
    "        print(\"wrong shape of data\")\n",
    "    T = data.shape[1]\n",
    "    N = data.shape[2]\n",
    "    return lfi - 2*N/(T*(2*delta)**2)\n",
    "#get_LFI(linear1, delta, 1e-9)"
   ]
  },
  {
   "cell_type": "code",
   "execution_count": 9,
   "metadata": {},
   "outputs": [],
   "source": [
    "data_in = x_tst.reshape(3,x_tst.shape[0]//3,x_tst.shape[1]*x_tst.shape[2])"
   ]
  },
  {
   "cell_type": "code",
   "execution_count": 14,
   "metadata": {
    "scrolled": true
   },
   "outputs": [
    {
     "data": {
      "text/plain": [
       "1.6753797669166657"
      ]
     },
     "execution_count": 14,
     "metadata": {},
     "output_type": "execute_result"
    }
   ],
   "source": [
    "get_LFI(data_in, delta, 1e-9)"
   ]
  },
  {
   "cell_type": "code",
   "execution_count": 15,
   "metadata": {},
   "outputs": [
    {
     "name": "stdout",
     "output_type": "stream",
     "text": [
      "lfi =  1.5260569730531885\n",
      "lfi =  1.6087787722671536\n",
      "lfi =  1.6373080577052714\n",
      "lfi =  1.6454209191389941\n",
      "lfi =  1.651405508934027\n"
     ]
    }
   ],
   "source": [
    "curve = FI_estimation.get_FI_curve(data_in, delta, 500, 100, 0.1, constant_threshold=0.05, noise_factor=0.01, biasedLFI=True)\n"
   ]
  },
  {
   "cell_type": "code",
   "execution_count": 16,
   "metadata": {
    "scrolled": true
   },
   "outputs": [
    {
     "name": "stdout",
     "output_type": "stream",
     "text": [
      "lfi =  1.2021906624369452\n",
      "lfi =  1.231580063933581\n",
      "lfi =  1.2513650510439547\n",
      "lfi =  1.2548664189182694\n",
      "lfi =  1.260035479234393\n"
     ]
    }
   ],
   "source": [
    "upperLimit = 500\n",
    "curve = FI_estimation.get_FI_curve(linear1, delta, upperLimit, 100, kappa, constant_threshold=gamma, noise_factor=noise, biasedLFI=True)\n"
   ]
  },
  {
   "cell_type": "code",
   "execution_count": 11,
   "metadata": {},
   "outputs": [],
   "source": [
    "curve[0] = 1.27407766"
   ]
  },
  {
   "cell_type": "code",
   "execution_count": 16,
   "metadata": {},
   "outputs": [],
   "source": [
    "x = []\n",
    "for up in range(0,upperLimit,step):\n",
    "    x.append(up)\n",
    "x = np.array(x)\n",
    "curve = np.array(curve)\n",
    "np.savez('Plots'+os.sep+'FIConvergenceExperimental.npz',\n",
    "         curve=curve,\n",
    "        x=x)"
   ]
  }
 ],
 "metadata": {
  "kernelspec": {
   "display_name": "ML",
   "language": "python",
   "name": "ml"
  },
  "language_info": {
   "codemirror_mode": {
    "name": "ipython",
    "version": 3
   },
   "file_extension": ".py",
   "mimetype": "text/x-python",
   "name": "python",
   "nbconvert_exporter": "python",
   "pygments_lexer": "ipython3",
   "version": "3.10.9"
  }
 },
 "nbformat": 4,
 "nbformat_minor": 2
}
